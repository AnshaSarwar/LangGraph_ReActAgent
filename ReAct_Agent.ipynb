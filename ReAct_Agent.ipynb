{
 "cells": [
  {
   "cell_type": "markdown",
   "id": "06c10e2e",
   "metadata": {},
   "source": [
    "### Graph with LLM + Tool Calling => ReAct Agent!"
   ]
  },
  {
   "cell_type": "code",
   "execution_count": 37,
   "id": "e9357e0d",
   "metadata": {},
   "outputs": [],
   "source": [
    "from langchain_groq import ChatGroq\n",
    "from langgraph.prebuilt import tools_condition, ToolNode\n",
    "from langgraph.graph import StateGraph, START, END\n",
    "from IPython.display import display, Image"
   ]
  },
  {
   "cell_type": "markdown",
   "id": "863a997a",
   "metadata": {},
   "source": [
    "#### Define the Tools"
   ]
  },
  {
   "cell_type": "code",
   "execution_count": 38,
   "id": "a6bd6704",
   "metadata": {},
   "outputs": [],
   "source": [
    "def add(a: int, b: int) -> int:\n",
    "  \"\"\"Adds a and b\n",
    "\n",
    "  Args:\n",
    "      a: first int\n",
    "      b: second: int\n",
    "  \"\"\"\n",
    "  return a + b\n",
    "\n",
    "def multiply(a: int, b: int) -> int:\n",
    "  \"\"\"Multiplies a and b\n",
    "\n",
    "  Args:\n",
    "      a: first int\n",
    "      b: second: int\n",
    "  \"\"\"\n",
    "  return a * b\n",
    "\n",
    "def divide(a: int, b: int) -> int:\n",
    "  \"\"\"Divides a and b\n",
    "\n",
    "  Args:\n",
    "      a: first int\n",
    "      b: second: int\n",
    "  \"\"\"\n",
    "  return a / b\n",
    "\n",
    "# List of mathematical operations for functional use\n",
    "tools = [add, multiply, divide]"
   ]
  },
  {
   "cell_type": "markdown",
   "id": "0045d9ce",
   "metadata": {},
   "source": [
    "#### Define LLM and power it with tools"
   ]
  },
  {
   "cell_type": "code",
   "execution_count": 39,
   "id": "e7305252",
   "metadata": {},
   "outputs": [],
   "source": [
    "llm = ChatGroq(\n",
    "    model_name=\"llama3-70b-8192\")\n",
    "\n",
    "# Bind the previously defined tools (functions) to the language model\n",
    "llm_with_tools = llm.bind_tools(tools)"
   ]
  },
  {
   "cell_type": "code",
   "execution_count": 40,
   "id": "d50cf1b5",
   "metadata": {},
   "outputs": [],
   "source": [
    "from langgraph.graph import MessagesState\n",
    "from langchain_core.messages import SystemMessage\n",
    "\n",
    "# System Message\n",
    "sys_msg = SystemMessage(content=\" You're a helpful assistant tasked with performing arithmetic operations on a given set of inputs.\")\n",
    "\n",
    "# Node with LLM assistant\n",
    "def assistant(state: MessagesState):\n",
    "  return {\"messages\": [llm_with_tools.invoke([sys_msg] + state[\"messages\"])]}"
   ]
  },
  {
   "cell_type": "markdown",
   "id": "1ff707aa",
   "metadata": {},
   "source": [
    "#### Build and Compile the Graph"
   ]
  },
  {
   "cell_type": "code",
   "execution_count": 41,
   "id": "ba2fadc1",
   "metadata": {},
   "outputs": [],
   "source": [
    "builder = StateGraph(MessagesState)\n",
    "\n",
    "# Our Assistant and Tool Nodes\n",
    "builder.add_node(\"assistant\", assistant)\n",
    "builder.add_node(\"tools\", ToolNode(tools))\n",
    "\n",
    "# Edges\n",
    "builder.add_edge(START, \"assistant\")\n",
    "builder.add_conditional_edges(\"assistant\", tools_condition)\n",
    "builder.add_edge(\"tools\", \"assistant\")\n",
    "\n",
    "# Compile the Graph\n",
    "react_graph = builder.compile()"
   ]
  },
  {
   "cell_type": "markdown",
   "id": "0e8b0a40",
   "metadata": {},
   "source": [
    "#### Visualize the Graph"
   ]
  },
  {
   "cell_type": "code",
   "execution_count": 42,
   "id": "9183769d",
   "metadata": {},
   "outputs": [
    {
     "data": {
      "image/png": "[encoded data removed]",
      "text/plain": [
       "<IPython.core.display.Image object>"
      ]
     },
     "metadata": {},
     "output_type": "display_data"
    }
   ],
   "source": [
    "display(Image(react_graph.get_graph().draw_mermaid_png()))"
   ]
  },
  {
   "cell_type": "markdown",
   "id": "76745686",
   "metadata": {},
   "source": [
    "#### Run the Graph"
   ]
  },
  {
   "cell_type": "code",
   "execution_count": 43,
   "id": "734e5a83",
   "metadata": {},
   "outputs": [
    {
     "name": "stdout",
     "output_type": "stream",
     "text": [
      "================================\u001b[1m Human Message \u001b[0m=================================\n",
      "\n",
      "Add 7 and 3. Multiply the output by 2. Divide the output by 5\n",
      "==================================\u001b[1m Ai Message \u001b[0m==================================\n",
      "Tool Calls:\n",
      "  add (0zsf1e75g)\n",
      " Call ID: 0zsf1e75g\n",
      "  Args:\n",
      "    a: 7\n",
      "    b: 3\n",
      "  multiply (xyyvc8fjm)\n",
      " Call ID: xyyvc8fjm\n",
      "  Args:\n",
      "    a: 10\n",
      "    b: 2\n",
      "  divide (zb2qsb2r5)\n",
      " Call ID: zb2qsb2r5\n",
      "  Args:\n",
      "    a: 20\n",
      "    b: 5\n",
      "=================================\u001b[1m Tool Message \u001b[0m=================================\n",
      "Name: add\n",
      "\n",
      "10\n",
      "=================================\u001b[1m Tool Message \u001b[0m=================================\n",
      "Name: multiply\n",
      "\n",
      "20\n",
      "=================================\u001b[1m Tool Message \u001b[0m=================================\n",
      "Name: divide\n",
      "\n",
      "4.0\n",
      "==================================\u001b[1m Ai Message \u001b[0m==================================\n",
      "\n",
      "The final answer is 4.0.\n"
     ]
    }
   ],
   "source": [
    "# Define the user input as a dictionary with a list of messages.\n",
    "input = {\"messages\": [\"Add 7 and 3. Multiply the output by 2. Divide the output by 5\"]}\n",
    "\n",
    "# Invoke the graph with the input messages\n",
    "messages = react_graph.invoke(input)\n",
    "\n",
    "# Loop through each message in the output and pretty-print it for readable display.\n",
    "for m in messages['messages']:\n",
    "  m.pretty_print()\n"
   ]
  },
  {
   "cell_type": "markdown",
   "id": "365597c8",
   "metadata": {},
   "source": [
    "#### Streaming"
   ]
  },
  {
   "cell_type": "markdown",
   "id": "2d95d0ee",
   "metadata": {},
   "source": [
    "##### sync"
   ]
  },
  {
   "cell_type": "code",
   "execution_count": 44,
   "id": "4346b238",
   "metadata": {},
   "outputs": [
    {
     "name": "stdout",
     "output_type": "stream",
     "text": [
      "{'messages': [HumanMessage(content='Add 7 and 3. Multiply the output by 2. Divide the output by 5', additional_kwargs={}, response_metadata={}, id='13e4088f-fd72-4fb1-b90d-d64ec6b530c6')]}\n",
      "{'messages': [HumanMessage(content='Add 7 and 3. Multiply the output by 2. Divide the output by 5', additional_kwargs={}, response_metadata={}, id='13e4088f-fd72-4fb1-b90d-d64ec6b530c6'), AIMessage(content='', additional_kwargs={'tool_calls': [{'id': '7fhn9w1zb', 'function': {'arguments': '{\"a\":7,\"b\":3}', 'name': 'add'}, 'type': 'function'}, {'id': 'e6mqv8db8', 'function': {'arguments': '{\"a\":10,\"b\":2}', 'name': 'multiply'}, 'type': 'function'}, {'id': '6hxn9pvcm', 'function': {'arguments': '{\"a\":20,\"b\":5}', 'name': 'divide'}, 'type': 'function'}]}, response_metadata={'token_usage': {'completion_tokens': 86, 'prompt_tokens': 1204, 'total_tokens': 1290, 'completion_time': 0.315317957, 'prompt_time': 0.046225555, 'queue_time': 0.010529169999999997, 'total_time': 0.361543512}, 'model_name': 'llama3-70b-8192', 'system_fingerprint': 'fp_dd4ae1c591', 'service_tier': 'on_demand', 'finish_reason': 'tool_calls', 'logprobs': None}, id='run--35bd3a1c-3fea-4c32-ba28-c8dd4e01a12a-0', tool_calls=[{'name': 'add', 'args': {'a': 7, 'b': 3}, 'id': '7fhn9w1zb', 'type': 'tool_call'}, {'name': 'multiply', 'args': {'a': 10, 'b': 2}, 'id': 'e6mqv8db8', 'type': 'tool_call'}, {'name': 'divide', 'args': {'a': 20, 'b': 5}, 'id': '6hxn9pvcm', 'type': 'tool_call'}], usage_metadata={'input_tokens': 1204, 'output_tokens': 86, 'total_tokens': 1290})]}\n",
      "{'messages': [HumanMessage(content='Add 7 and 3. Multiply the output by 2. Divide the output by 5', additional_kwargs={}, response_metadata={}, id='13e4088f-fd72-4fb1-b90d-d64ec6b530c6'), AIMessage(content='', additional_kwargs={'tool_calls': [{'id': '7fhn9w1zb', 'function': {'arguments': '{\"a\":7,\"b\":3}', 'name': 'add'}, 'type': 'function'}, {'id': 'e6mqv8db8', 'function': {'arguments': '{\"a\":10,\"b\":2}', 'name': 'multiply'}, 'type': 'function'}, {'id': '6hxn9pvcm', 'function': {'arguments': '{\"a\":20,\"b\":5}', 'name': 'divide'}, 'type': 'function'}]}, response_metadata={'token_usage': {'completion_tokens': 86, 'prompt_tokens': 1204, 'total_tokens': 1290, 'completion_time': 0.315317957, 'prompt_time': 0.046225555, 'queue_time': 0.010529169999999997, 'total_time': 0.361543512}, 'model_name': 'llama3-70b-8192', 'system_fingerprint': 'fp_dd4ae1c591', 'service_tier': 'on_demand', 'finish_reason': 'tool_calls', 'logprobs': None}, id='run--35bd3a1c-3fea-4c32-ba28-c8dd4e01a12a-0', tool_calls=[{'name': 'add', 'args': {'a': 7, 'b': 3}, 'id': '7fhn9w1zb', 'type': 'tool_call'}, {'name': 'multiply', 'args': {'a': 10, 'b': 2}, 'id': 'e6mqv8db8', 'type': 'tool_call'}, {'name': 'divide', 'args': {'a': 20, 'b': 5}, 'id': '6hxn9pvcm', 'type': 'tool_call'}], usage_metadata={'input_tokens': 1204, 'output_tokens': 86, 'total_tokens': 1290}), ToolMessage(content='10', name='add', id='4455b727-24d2-428e-84f3-c93cabd0f803', tool_call_id='7fhn9w1zb'), ToolMessage(content='20', name='multiply', id='9e00beef-0827-4dd7-81a2-4541c9b117a9', tool_call_id='e6mqv8db8'), ToolMessage(content='4.0', name='divide', id='f52618ca-6e8a-4c42-b68c-77a1ca19bc18', tool_call_id='6hxn9pvcm')]}\n",
      "{'messages': [HumanMessage(content='Add 7 and 3. Multiply the output by 2. Divide the output by 5', additional_kwargs={}, response_metadata={}, id='13e4088f-fd72-4fb1-b90d-d64ec6b530c6'), AIMessage(content='', additional_kwargs={'tool_calls': [{'id': '7fhn9w1zb', 'function': {'arguments': '{\"a\":7,\"b\":3}', 'name': 'add'}, 'type': 'function'}, {'id': 'e6mqv8db8', 'function': {'arguments': '{\"a\":10,\"b\":2}', 'name': 'multiply'}, 'type': 'function'}, {'id': '6hxn9pvcm', 'function': {'arguments': '{\"a\":20,\"b\":5}', 'name': 'divide'}, 'type': 'function'}]}, response_metadata={'token_usage': {'completion_tokens': 86, 'prompt_tokens': 1204, 'total_tokens': 1290, 'completion_time': 0.315317957, 'prompt_time': 0.046225555, 'queue_time': 0.010529169999999997, 'total_time': 0.361543512}, 'model_name': 'llama3-70b-8192', 'system_fingerprint': 'fp_dd4ae1c591', 'service_tier': 'on_demand', 'finish_reason': 'tool_calls', 'logprobs': None}, id='run--35bd3a1c-3fea-4c32-ba28-c8dd4e01a12a-0', tool_calls=[{'name': 'add', 'args': {'a': 7, 'b': 3}, 'id': '7fhn9w1zb', 'type': 'tool_call'}, {'name': 'multiply', 'args': {'a': 10, 'b': 2}, 'id': 'e6mqv8db8', 'type': 'tool_call'}, {'name': 'divide', 'args': {'a': 20, 'b': 5}, 'id': '6hxn9pvcm', 'type': 'tool_call'}], usage_metadata={'input_tokens': 1204, 'output_tokens': 86, 'total_tokens': 1290}), ToolMessage(content='10', name='add', id='4455b727-24d2-428e-84f3-c93cabd0f803', tool_call_id='7fhn9w1zb'), ToolMessage(content='20', name='multiply', id='9e00beef-0827-4dd7-81a2-4541c9b117a9', tool_call_id='e6mqv8db8'), ToolMessage(content='4.0', name='divide', id='f52618ca-6e8a-4c42-b68c-77a1ca19bc18', tool_call_id='6hxn9pvcm'), AIMessage(content='The final answer is 4.0.', additional_kwargs={}, response_metadata={'token_usage': {'completion_tokens': 10, 'prompt_tokens': 1403, 'total_tokens': 1413, 'completion_time': 0.072933849, 'prompt_time': 0.052403067, 'queue_time': 0.013191934000000002, 'total_time': 0.125336916}, 'model_name': 'llama3-70b-8192', 'system_fingerprint': 'fp_dd4ae1c591', 'service_tier': 'on_demand', 'finish_reason': 'stop', 'logprobs': None}, id='run--5790efca-8d55-4c5c-92e1-767f0d307ed8-0', usage_metadata={'input_tokens': 1403, 'output_tokens': 10, 'total_tokens': 1413})]}\n"
     ]
    }
   ],
   "source": [
    "# stream_mode = \"values\"\n",
    "input = {\"messages\": [\"Add 7 and 3. Multiply the output by 2. Divide the output by 5\"]}\n",
    "\n",
    "events = react_graph.stream(input=input, stream_mode=\"values\")\n",
    "for event in events:\n",
    "    print(event)"
   ]
  },
  {
   "cell_type": "code",
   "execution_count": 45,
   "id": "66b95da8",
   "metadata": {},
   "outputs": [
    {
     "name": "stdout",
     "output_type": "stream",
     "text": [
      "{'assistant': {'messages': [AIMessage(content='', additional_kwargs={'tool_calls': [{'id': '85xwayz0f', 'function': {'arguments': '{\"a\":7,\"b\":3}', 'name': 'add'}, 'type': 'function'}, {'id': 'vwd60wwxj', 'function': {'arguments': '{\"a\":10,\"b\":2}', 'name': 'multiply'}, 'type': 'function'}, {'id': 'nb68pvwmc', 'function': {'arguments': '{\"a\":20,\"b\":5}', 'name': 'divide'}, 'type': 'function'}]}, response_metadata={'token_usage': {'completion_tokens': 86, 'prompt_tokens': 1204, 'total_tokens': 1290, 'completion_time': 0.308637374, 'prompt_time': 0.04645249, 'queue_time': 0.019925477999999996, 'total_time': 0.355089864}, 'model_name': 'llama3-70b-8192', 'system_fingerprint': 'fp_dd4ae1c591', 'service_tier': 'on_demand', 'finish_reason': 'tool_calls', 'logprobs': None}, id='run--852e8838-3846-4941-804a-3fe43c5de98f-0', tool_calls=[{'name': 'add', 'args': {'a': 7, 'b': 3}, 'id': '85xwayz0f', 'type': 'tool_call'}, {'name': 'multiply', 'args': {'a': 10, 'b': 2}, 'id': 'vwd60wwxj', 'type': 'tool_call'}, {'name': 'divide', 'args': {'a': 20, 'b': 5}, 'id': 'nb68pvwmc', 'type': 'tool_call'}], usage_metadata={'input_tokens': 1204, 'output_tokens': 86, 'total_tokens': 1290})]}}\n",
      "{'tools': {'messages': [ToolMessage(content='10', name='add', id='4a254684-c402-4c47-acd7-7d4c8254633d', tool_call_id='85xwayz0f'), ToolMessage(content='20', name='multiply', id='aa47b4d2-7612-42eb-a3a6-5a4f749e319c', tool_call_id='vwd60wwxj'), ToolMessage(content='4.0', name='divide', id='6d078835-6869-4a32-81cc-d5c689d40498', tool_call_id='nb68pvwmc')]}}\n",
      "{'assistant': {'messages': [AIMessage(content='The final answer is 4.0.', additional_kwargs={}, response_metadata={'token_usage': {'completion_tokens': 10, 'prompt_tokens': 1397, 'total_tokens': 1407, 'completion_time': 0.095499336, 'prompt_time': 0.054307074, 'queue_time': 0.01061173, 'total_time': 0.14980641}, 'model_name': 'llama3-70b-8192', 'system_fingerprint': 'fp_dd4ae1c591', 'service_tier': 'on_demand', 'finish_reason': 'stop', 'logprobs': None}, id='run--0a723358-c354-471f-9b73-9cdcd22f127e-0', usage_metadata={'input_tokens': 1397, 'output_tokens': 10, 'total_tokens': 1407})]}}\n"
     ]
    }
   ],
   "source": [
    "# stream_mode = \"values\"\n",
    "input = {\"messages\": [\"Add 7 and 3. Multiply the output by 2. Divide the output by 5\"]}\n",
    "\n",
    "events = react_graph.stream(input=input, stream_mode=\"updates\")\n",
    "for event in events:\n",
    "    print(event)"
   ]
  },
  {
   "cell_type": "markdown",
   "id": "334f336a",
   "metadata": {},
   "source": [
    "##### async"
   ]
  },
  {
   "cell_type": "code",
   "execution_count": 46,
   "id": "56c5cbd8",
   "metadata": {},
   "outputs": [
    {
     "name": "stdout",
     "output_type": "stream",
     "text": [
      "{'event': 'on_chain_start', 'data': {'input': {'messages': [\"Hi How're you?\"]}}, 'name': 'LangGraph', 'tags': [], 'run_id': '84533360-a902-44a3-8fd7-2e646ab2ee7e', 'metadata': {}, 'parent_ids': []}\n",
      "{'event': 'on_chain_start', 'data': {'input': {'messages': [HumanMessage(content=\"Hi How're you?\", additional_kwargs={}, response_metadata={}, id='d43237ca-3e80-420e-a219-1a0461028ad3')]}}, 'name': 'assistant', 'tags': ['graph:step:1'], 'run_id': 'aa7b5768-1ec4-4c91-a495-5779c5f2f926', 'metadata': {'langgraph_step': 1, 'langgraph_node': 'assistant', 'langgraph_triggers': ('branch:to:assistant',), 'langgraph_path': ('__pregel_pull', 'assistant'), 'langgraph_checkpoint_ns': 'assistant:4c4bbd3b-3b10-2956-7365-4f51661b3049'}, 'parent_ids': ['84533360-a902-44a3-8fd7-2e646ab2ee7e']}\n",
      "{'event': 'on_chat_model_start', 'data': {'input': {'messages': [[SystemMessage(content=\" You're a helpful assistant tasked with performing arithmetic operations on a given set of inputs.\", additional_kwargs={}, response_metadata={}), HumanMessage(content=\"Hi How're you?\", additional_kwargs={}, response_metadata={}, id='d43237ca-3e80-420e-a219-1a0461028ad3')]]}}, 'name': 'ChatGroq', 'tags': ['seq:step:1'], 'run_id': 'fe50a465-4cbe-4ac9-9c34-6548908f36ed', 'metadata': {'langgraph_step': 1, 'langgraph_node': 'assistant', 'langgraph_triggers': ('branch:to:assistant',), 'langgraph_path': ('__pregel_pull', 'assistant'), 'langgraph_checkpoint_ns': 'assistant:4c4bbd3b-3b10-2956-7365-4f51661b3049', 'checkpoint_ns': 'assistant:4c4bbd3b-3b10-2956-7365-4f51661b3049', 'ls_provider': 'groq', 'ls_model_name': 'llama3-70b-8192', 'ls_model_type': 'chat', 'ls_temperature': 0.7}, 'parent_ids': ['84533360-a902-44a3-8fd7-2e646ab2ee7e', 'aa7b5768-1ec4-4c91-a495-5779c5f2f926']}\n",
      "{'event': 'on_chat_model_stream', 'data': {'chunk': AIMessageChunk(content='', additional_kwargs={}, response_metadata={}, id='run--fe50a465-4cbe-4ac9-9c34-6548908f36ed')}, 'run_id': 'fe50a465-4cbe-4ac9-9c34-6548908f36ed', 'name': 'ChatGroq', 'tags': ['seq:step:1'], 'metadata': {'langgraph_step': 1, 'langgraph_node': 'assistant', 'langgraph_triggers': ('branch:to:assistant',), 'langgraph_path': ('__pregel_pull', 'assistant'), 'langgraph_checkpoint_ns': 'assistant:4c4bbd3b-3b10-2956-7365-4f51661b3049', 'checkpoint_ns': 'assistant:4c4bbd3b-3b10-2956-7365-4f51661b3049', 'ls_provider': 'groq', 'ls_model_name': 'llama3-70b-8192', 'ls_model_type': 'chat', 'ls_temperature': 0.7}, 'parent_ids': ['84533360-a902-44a3-8fd7-2e646ab2ee7e', 'aa7b5768-1ec4-4c91-a495-5779c5f2f926']}\n",
      "{'event': 'on_chat_model_stream', 'data': {'chunk': AIMessageChunk(content='I', additional_kwargs={}, response_metadata={}, id='run--fe50a465-4cbe-4ac9-9c34-6548908f36ed')}, 'run_id': 'fe50a465-4cbe-4ac9-9c34-6548908f36ed', 'name': 'ChatGroq', 'tags': ['seq:step:1'], 'metadata': {'langgraph_step': 1, 'langgraph_node': 'assistant', 'langgraph_triggers': ('branch:to:assistant',), 'langgraph_path': ('__pregel_pull', 'assistant'), 'langgraph_checkpoint_ns': 'assistant:4c4bbd3b-3b10-2956-7365-4f51661b3049', 'checkpoint_ns': 'assistant:4c4bbd3b-3b10-2956-7365-4f51661b3049', 'ls_provider': 'groq', 'ls_model_name': 'llama3-70b-8192', 'ls_model_type': 'chat', 'ls_temperature': 0.7}, 'parent_ids': ['84533360-a902-44a3-8fd7-2e646ab2ee7e', 'aa7b5768-1ec4-4c91-a495-5779c5f2f926']}\n",
      "{'event': 'on_chat_model_stream', 'data': {'chunk': AIMessageChunk(content=\"'m\", additional_kwargs={}, response_metadata={}, id='run--fe50a465-4cbe-4ac9-9c34-6548908f36ed')}, 'run_id': 'fe50a465-4cbe-4ac9-9c34-6548908f36ed', 'name': 'ChatGroq', 'tags': ['seq:step:1'], 'metadata': {'langgraph_step': 1, 'langgraph_node': 'assistant', 'langgraph_triggers': ('branch:to:assistant',), 'langgraph_path': ('__pregel_pull', 'assistant'), 'langgraph_checkpoint_ns': 'assistant:4c4bbd3b-3b10-2956-7365-4f51661b3049', 'checkpoint_ns': 'assistant:4c4bbd3b-3b10-2956-7365-4f51661b3049', 'ls_provider': 'groq', 'ls_model_name': 'llama3-70b-8192', 'ls_model_type': 'chat', 'ls_temperature': 0.7}, 'parent_ids': ['84533360-a902-44a3-8fd7-2e646ab2ee7e', 'aa7b5768-1ec4-4c91-a495-5779c5f2f926']}\n",
      "{'event': 'on_chat_model_stream', 'data': {'chunk': AIMessageChunk(content=' doing', additional_kwargs={}, response_metadata={}, id='run--fe50a465-4cbe-4ac9-9c34-6548908f36ed')}, 'run_id': 'fe50a465-4cbe-4ac9-9c34-6548908f36ed', 'name': 'ChatGroq', 'tags': ['seq:step:1'], 'metadata': {'langgraph_step': 1, 'langgraph_node': 'assistant', 'langgraph_triggers': ('branch:to:assistant',), 'langgraph_path': ('__pregel_pull', 'assistant'), 'langgraph_checkpoint_ns': 'assistant:4c4bbd3b-3b10-2956-7365-4f51661b3049', 'checkpoint_ns': 'assistant:4c4bbd3b-3b10-2956-7365-4f51661b3049', 'ls_provider': 'groq', 'ls_model_name': 'llama3-70b-8192', 'ls_model_type': 'chat', 'ls_temperature': 0.7}, 'parent_ids': ['84533360-a902-44a3-8fd7-2e646ab2ee7e', 'aa7b5768-1ec4-4c91-a495-5779c5f2f926']}\n",
      "{'event': 'on_chat_model_stream', 'data': {'chunk': AIMessageChunk(content=' well', additional_kwargs={}, response_metadata={}, id='run--fe50a465-4cbe-4ac9-9c34-6548908f36ed')}, 'run_id': 'fe50a465-4cbe-4ac9-9c34-6548908f36ed', 'name': 'ChatGroq', 'tags': ['seq:step:1'], 'metadata': {'langgraph_step': 1, 'langgraph_node': 'assistant', 'langgraph_triggers': ('branch:to:assistant',), 'langgraph_path': ('__pregel_pull', 'assistant'), 'langgraph_checkpoint_ns': 'assistant:4c4bbd3b-3b10-2956-7365-4f51661b3049', 'checkpoint_ns': 'assistant:4c4bbd3b-3b10-2956-7365-4f51661b3049', 'ls_provider': 'groq', 'ls_model_name': 'llama3-70b-8192', 'ls_model_type': 'chat', 'ls_temperature': 0.7}, 'parent_ids': ['84533360-a902-44a3-8fd7-2e646ab2ee7e', 'aa7b5768-1ec4-4c91-a495-5779c5f2f926']}\n",
      "{'event': 'on_chat_model_stream', 'data': {'chunk': AIMessageChunk(content=',', additional_kwargs={}, response_metadata={}, id='run--fe50a465-4cbe-4ac9-9c34-6548908f36ed')}, 'run_id': 'fe50a465-4cbe-4ac9-9c34-6548908f36ed', 'name': 'ChatGroq', 'tags': ['seq:step:1'], 'metadata': {'langgraph_step': 1, 'langgraph_node': 'assistant', 'langgraph_triggers': ('branch:to:assistant',), 'langgraph_path': ('__pregel_pull', 'assistant'), 'langgraph_checkpoint_ns': 'assistant:4c4bbd3b-3b10-2956-7365-4f51661b3049', 'checkpoint_ns': 'assistant:4c4bbd3b-3b10-2956-7365-4f51661b3049', 'ls_provider': 'groq', 'ls_model_name': 'llama3-70b-8192', 'ls_model_type': 'chat', 'ls_temperature': 0.7}, 'parent_ids': ['84533360-a902-44a3-8fd7-2e646ab2ee7e', 'aa7b5768-1ec4-4c91-a495-5779c5f2f926']}\n",
      "{'event': 'on_chat_model_stream', 'data': {'chunk': AIMessageChunk(content=' thanks', additional_kwargs={}, response_metadata={}, id='run--fe50a465-4cbe-4ac9-9c34-6548908f36ed')}, 'run_id': 'fe50a465-4cbe-4ac9-9c34-6548908f36ed', 'name': 'ChatGroq', 'tags': ['seq:step:1'], 'metadata': {'langgraph_step': 1, 'langgraph_node': 'assistant', 'langgraph_triggers': ('branch:to:assistant',), 'langgraph_path': ('__pregel_pull', 'assistant'), 'langgraph_checkpoint_ns': 'assistant:4c4bbd3b-3b10-2956-7365-4f51661b3049', 'checkpoint_ns': 'assistant:4c4bbd3b-3b10-2956-7365-4f51661b3049', 'ls_provider': 'groq', 'ls_model_name': 'llama3-70b-8192', 'ls_model_type': 'chat', 'ls_temperature': 0.7}, 'parent_ids': ['84533360-a902-44a3-8fd7-2e646ab2ee7e', 'aa7b5768-1ec4-4c91-a495-5779c5f2f926']}\n",
      "{'event': 'on_chat_model_stream', 'data': {'chunk': AIMessageChunk(content='!', additional_kwargs={}, response_metadata={}, id='run--fe50a465-4cbe-4ac9-9c34-6548908f36ed')}, 'run_id': 'fe50a465-4cbe-4ac9-9c34-6548908f36ed', 'name': 'ChatGroq', 'tags': ['seq:step:1'], 'metadata': {'langgraph_step': 1, 'langgraph_node': 'assistant', 'langgraph_triggers': ('branch:to:assistant',), 'langgraph_path': ('__pregel_pull', 'assistant'), 'langgraph_checkpoint_ns': 'assistant:4c4bbd3b-3b10-2956-7365-4f51661b3049', 'checkpoint_ns': 'assistant:4c4bbd3b-3b10-2956-7365-4f51661b3049', 'ls_provider': 'groq', 'ls_model_name': 'llama3-70b-8192', 'ls_model_type': 'chat', 'ls_temperature': 0.7}, 'parent_ids': ['84533360-a902-44a3-8fd7-2e646ab2ee7e', 'aa7b5768-1ec4-4c91-a495-5779c5f2f926']}\n",
      "{'event': 'on_chat_model_stream', 'data': {'chunk': AIMessageChunk(content=' I', additional_kwargs={}, response_metadata={}, id='run--fe50a465-4cbe-4ac9-9c34-6548908f36ed')}, 'run_id': 'fe50a465-4cbe-4ac9-9c34-6548908f36ed', 'name': 'ChatGroq', 'tags': ['seq:step:1'], 'metadata': {'langgraph_step': 1, 'langgraph_node': 'assistant', 'langgraph_triggers': ('branch:to:assistant',), 'langgraph_path': ('__pregel_pull', 'assistant'), 'langgraph_checkpoint_ns': 'assistant:4c4bbd3b-3b10-2956-7365-4f51661b3049', 'checkpoint_ns': 'assistant:4c4bbd3b-3b10-2956-7365-4f51661b3049', 'ls_provider': 'groq', 'ls_model_name': 'llama3-70b-8192', 'ls_model_type': 'chat', 'ls_temperature': 0.7}, 'parent_ids': ['84533360-a902-44a3-8fd7-2e646ab2ee7e', 'aa7b5768-1ec4-4c91-a495-5779c5f2f926']}\n",
      "{'event': 'on_chat_model_stream', 'data': {'chunk': AIMessageChunk(content=\"'m\", additional_kwargs={}, response_metadata={}, id='run--fe50a465-4cbe-4ac9-9c34-6548908f36ed')}, 'run_id': 'fe50a465-4cbe-4ac9-9c34-6548908f36ed', 'name': 'ChatGroq', 'tags': ['seq:step:1'], 'metadata': {'langgraph_step': 1, 'langgraph_node': 'assistant', 'langgraph_triggers': ('branch:to:assistant',), 'langgraph_path': ('__pregel_pull', 'assistant'), 'langgraph_checkpoint_ns': 'assistant:4c4bbd3b-3b10-2956-7365-4f51661b3049', 'checkpoint_ns': 'assistant:4c4bbd3b-3b10-2956-7365-4f51661b3049', 'ls_provider': 'groq', 'ls_model_name': 'llama3-70b-8192', 'ls_model_type': 'chat', 'ls_temperature': 0.7}, 'parent_ids': ['84533360-a902-44a3-8fd7-2e646ab2ee7e', 'aa7b5768-1ec4-4c91-a495-5779c5f2f926']}\n",
      "{'event': 'on_chat_model_stream', 'data': {'chunk': AIMessageChunk(content=' here', additional_kwargs={}, response_metadata={}, id='run--fe50a465-4cbe-4ac9-9c34-6548908f36ed')}, 'run_id': 'fe50a465-4cbe-4ac9-9c34-6548908f36ed', 'name': 'ChatGroq', 'tags': ['seq:step:1'], 'metadata': {'langgraph_step': 1, 'langgraph_node': 'assistant', 'langgraph_triggers': ('branch:to:assistant',), 'langgraph_path': ('__pregel_pull', 'assistant'), 'langgraph_checkpoint_ns': 'assistant:4c4bbd3b-3b10-2956-7365-4f51661b3049', 'checkpoint_ns': 'assistant:4c4bbd3b-3b10-2956-7365-4f51661b3049', 'ls_provider': 'groq', 'ls_model_name': 'llama3-70b-8192', 'ls_model_type': 'chat', 'ls_temperature': 0.7}, 'parent_ids': ['84533360-a902-44a3-8fd7-2e646ab2ee7e', 'aa7b5768-1ec4-4c91-a495-5779c5f2f926']}\n",
      "{'event': 'on_chat_model_stream', 'data': {'chunk': AIMessageChunk(content=' to', additional_kwargs={}, response_metadata={}, id='run--fe50a465-4cbe-4ac9-9c34-6548908f36ed')}, 'run_id': 'fe50a465-4cbe-4ac9-9c34-6548908f36ed', 'name': 'ChatGroq', 'tags': ['seq:step:1'], 'metadata': {'langgraph_step': 1, 'langgraph_node': 'assistant', 'langgraph_triggers': ('branch:to:assistant',), 'langgraph_path': ('__pregel_pull', 'assistant'), 'langgraph_checkpoint_ns': 'assistant:4c4bbd3b-3b10-2956-7365-4f51661b3049', 'checkpoint_ns': 'assistant:4c4bbd3b-3b10-2956-7365-4f51661b3049', 'ls_provider': 'groq', 'ls_model_name': 'llama3-70b-8192', 'ls_model_type': 'chat', 'ls_temperature': 0.7}, 'parent_ids': ['84533360-a902-44a3-8fd7-2e646ab2ee7e', 'aa7b5768-1ec4-4c91-a495-5779c5f2f926']}\n",
      "{'event': 'on_chat_model_stream', 'data': {'chunk': AIMessageChunk(content=' help', additional_kwargs={}, response_metadata={}, id='run--fe50a465-4cbe-4ac9-9c34-6548908f36ed')}, 'run_id': 'fe50a465-4cbe-4ac9-9c34-6548908f36ed', 'name': 'ChatGroq', 'tags': ['seq:step:1'], 'metadata': {'langgraph_step': 1, 'langgraph_node': 'assistant', 'langgraph_triggers': ('branch:to:assistant',), 'langgraph_path': ('__pregel_pull', 'assistant'), 'langgraph_checkpoint_ns': 'assistant:4c4bbd3b-3b10-2956-7365-4f51661b3049', 'checkpoint_ns': 'assistant:4c4bbd3b-3b10-2956-7365-4f51661b3049', 'ls_provider': 'groq', 'ls_model_name': 'llama3-70b-8192', 'ls_model_type': 'chat', 'ls_temperature': 0.7}, 'parent_ids': ['84533360-a902-44a3-8fd7-2e646ab2ee7e', 'aa7b5768-1ec4-4c91-a495-5779c5f2f926']}\n",
      "{'event': 'on_chat_model_stream', 'data': {'chunk': AIMessageChunk(content=' you', additional_kwargs={}, response_metadata={}, id='run--fe50a465-4cbe-4ac9-9c34-6548908f36ed')}, 'run_id': 'fe50a465-4cbe-4ac9-9c34-6548908f36ed', 'name': 'ChatGroq', 'tags': ['seq:step:1'], 'metadata': {'langgraph_step': 1, 'langgraph_node': 'assistant', 'langgraph_triggers': ('branch:to:assistant',), 'langgraph_path': ('__pregel_pull', 'assistant'), 'langgraph_checkpoint_ns': 'assistant:4c4bbd3b-3b10-2956-7365-4f51661b3049', 'checkpoint_ns': 'assistant:4c4bbd3b-3b10-2956-7365-4f51661b3049', 'ls_provider': 'groq', 'ls_model_name': 'llama3-70b-8192', 'ls_model_type': 'chat', 'ls_temperature': 0.7}, 'parent_ids': ['84533360-a902-44a3-8fd7-2e646ab2ee7e', 'aa7b5768-1ec4-4c91-a495-5779c5f2f926']}\n",
      "{'event': 'on_chat_model_stream', 'data': {'chunk': AIMessageChunk(content=' with', additional_kwargs={}, response_metadata={}, id='run--fe50a465-4cbe-4ac9-9c34-6548908f36ed')}, 'run_id': 'fe50a465-4cbe-4ac9-9c34-6548908f36ed', 'name': 'ChatGroq', 'tags': ['seq:step:1'], 'metadata': {'langgraph_step': 1, 'langgraph_node': 'assistant', 'langgraph_triggers': ('branch:to:assistant',), 'langgraph_path': ('__pregel_pull', 'assistant'), 'langgraph_checkpoint_ns': 'assistant:4c4bbd3b-3b10-2956-7365-4f51661b3049', 'checkpoint_ns': 'assistant:4c4bbd3b-3b10-2956-7365-4f51661b3049', 'ls_provider': 'groq', 'ls_model_name': 'llama3-70b-8192', 'ls_model_type': 'chat', 'ls_temperature': 0.7}, 'parent_ids': ['84533360-a902-44a3-8fd7-2e646ab2ee7e', 'aa7b5768-1ec4-4c91-a495-5779c5f2f926']}\n",
      "{'event': 'on_chat_model_stream', 'data': {'chunk': AIMessageChunk(content=' any', additional_kwargs={}, response_metadata={}, id='run--fe50a465-4cbe-4ac9-9c34-6548908f36ed')}, 'run_id': 'fe50a465-4cbe-4ac9-9c34-6548908f36ed', 'name': 'ChatGroq', 'tags': ['seq:step:1'], 'metadata': {'langgraph_step': 1, 'langgraph_node': 'assistant', 'langgraph_triggers': ('branch:to:assistant',), 'langgraph_path': ('__pregel_pull', 'assistant'), 'langgraph_checkpoint_ns': 'assistant:4c4bbd3b-3b10-2956-7365-4f51661b3049', 'checkpoint_ns': 'assistant:4c4bbd3b-3b10-2956-7365-4f51661b3049', 'ls_provider': 'groq', 'ls_model_name': 'llama3-70b-8192', 'ls_model_type': 'chat', 'ls_temperature': 0.7}, 'parent_ids': ['84533360-a902-44a3-8fd7-2e646ab2ee7e', 'aa7b5768-1ec4-4c91-a495-5779c5f2f926']}\n",
      "{'event': 'on_chat_model_stream', 'data': {'chunk': AIMessageChunk(content=' arithmetic', additional_kwargs={}, response_metadata={}, id='run--fe50a465-4cbe-4ac9-9c34-6548908f36ed')}, 'run_id': 'fe50a465-4cbe-4ac9-9c34-6548908f36ed', 'name': 'ChatGroq', 'tags': ['seq:step:1'], 'metadata': {'langgraph_step': 1, 'langgraph_node': 'assistant', 'langgraph_triggers': ('branch:to:assistant',), 'langgraph_path': ('__pregel_pull', 'assistant'), 'langgraph_checkpoint_ns': 'assistant:4c4bbd3b-3b10-2956-7365-4f51661b3049', 'checkpoint_ns': 'assistant:4c4bbd3b-3b10-2956-7365-4f51661b3049', 'ls_provider': 'groq', 'ls_model_name': 'llama3-70b-8192', 'ls_model_type': 'chat', 'ls_temperature': 0.7}, 'parent_ids': ['84533360-a902-44a3-8fd7-2e646ab2ee7e', 'aa7b5768-1ec4-4c91-a495-5779c5f2f926']}\n",
      "{'event': 'on_chat_model_stream', 'data': {'chunk': AIMessageChunk(content=' operations', additional_kwargs={}, response_metadata={}, id='run--fe50a465-4cbe-4ac9-9c34-6548908f36ed')}, 'run_id': 'fe50a465-4cbe-4ac9-9c34-6548908f36ed', 'name': 'ChatGroq', 'tags': ['seq:step:1'], 'metadata': {'langgraph_step': 1, 'langgraph_node': 'assistant', 'langgraph_triggers': ('branch:to:assistant',), 'langgraph_path': ('__pregel_pull', 'assistant'), 'langgraph_checkpoint_ns': 'assistant:4c4bbd3b-3b10-2956-7365-4f51661b3049', 'checkpoint_ns': 'assistant:4c4bbd3b-3b10-2956-7365-4f51661b3049', 'ls_provider': 'groq', 'ls_model_name': 'llama3-70b-8192', 'ls_model_type': 'chat', 'ls_temperature': 0.7}, 'parent_ids': ['84533360-a902-44a3-8fd7-2e646ab2ee7e', 'aa7b5768-1ec4-4c91-a495-5779c5f2f926']}\n",
      "{'event': 'on_chat_model_stream', 'data': {'chunk': AIMessageChunk(content=' you', additional_kwargs={}, response_metadata={}, id='run--fe50a465-4cbe-4ac9-9c34-6548908f36ed')}, 'run_id': 'fe50a465-4cbe-4ac9-9c34-6548908f36ed', 'name': 'ChatGroq', 'tags': ['seq:step:1'], 'metadata': {'langgraph_step': 1, 'langgraph_node': 'assistant', 'langgraph_triggers': ('branch:to:assistant',), 'langgraph_path': ('__pregel_pull', 'assistant'), 'langgraph_checkpoint_ns': 'assistant:4c4bbd3b-3b10-2956-7365-4f51661b3049', 'checkpoint_ns': 'assistant:4c4bbd3b-3b10-2956-7365-4f51661b3049', 'ls_provider': 'groq', 'ls_model_name': 'llama3-70b-8192', 'ls_model_type': 'chat', 'ls_temperature': 0.7}, 'parent_ids': ['84533360-a902-44a3-8fd7-2e646ab2ee7e', 'aa7b5768-1ec4-4c91-a495-5779c5f2f926']}\n",
      "{'event': 'on_chat_model_stream', 'data': {'chunk': AIMessageChunk(content=\"'d\", additional_kwargs={}, response_metadata={}, id='run--fe50a465-4cbe-4ac9-9c34-6548908f36ed')}, 'run_id': 'fe50a465-4cbe-4ac9-9c34-6548908f36ed', 'name': 'ChatGroq', 'tags': ['seq:step:1'], 'metadata': {'langgraph_step': 1, 'langgraph_node': 'assistant', 'langgraph_triggers': ('branch:to:assistant',), 'langgraph_path': ('__pregel_pull', 'assistant'), 'langgraph_checkpoint_ns': 'assistant:4c4bbd3b-3b10-2956-7365-4f51661b3049', 'checkpoint_ns': 'assistant:4c4bbd3b-3b10-2956-7365-4f51661b3049', 'ls_provider': 'groq', 'ls_model_name': 'llama3-70b-8192', 'ls_model_type': 'chat', 'ls_temperature': 0.7}, 'parent_ids': ['84533360-a902-44a3-8fd7-2e646ab2ee7e', 'aa7b5768-1ec4-4c91-a495-5779c5f2f926']}\n",
      "{'event': 'on_chat_model_stream', 'data': {'chunk': AIMessageChunk(content=' like', additional_kwargs={}, response_metadata={}, id='run--fe50a465-4cbe-4ac9-9c34-6548908f36ed')}, 'run_id': 'fe50a465-4cbe-4ac9-9c34-6548908f36ed', 'name': 'ChatGroq', 'tags': ['seq:step:1'], 'metadata': {'langgraph_step': 1, 'langgraph_node': 'assistant', 'langgraph_triggers': ('branch:to:assistant',), 'langgraph_path': ('__pregel_pull', 'assistant'), 'langgraph_checkpoint_ns': 'assistant:4c4bbd3b-3b10-2956-7365-4f51661b3049', 'checkpoint_ns': 'assistant:4c4bbd3b-3b10-2956-7365-4f51661b3049', 'ls_provider': 'groq', 'ls_model_name': 'llama3-70b-8192', 'ls_model_type': 'chat', 'ls_temperature': 0.7}, 'parent_ids': ['84533360-a902-44a3-8fd7-2e646ab2ee7e', 'aa7b5768-1ec4-4c91-a495-5779c5f2f926']}\n",
      "{'event': 'on_chat_model_stream', 'data': {'chunk': AIMessageChunk(content=' to', additional_kwargs={}, response_metadata={}, id='run--fe50a465-4cbe-4ac9-9c34-6548908f36ed')}, 'run_id': 'fe50a465-4cbe-4ac9-9c34-6548908f36ed', 'name': 'ChatGroq', 'tags': ['seq:step:1'], 'metadata': {'langgraph_step': 1, 'langgraph_node': 'assistant', 'langgraph_triggers': ('branch:to:assistant',), 'langgraph_path': ('__pregel_pull', 'assistant'), 'langgraph_checkpoint_ns': 'assistant:4c4bbd3b-3b10-2956-7365-4f51661b3049', 'checkpoint_ns': 'assistant:4c4bbd3b-3b10-2956-7365-4f51661b3049', 'ls_provider': 'groq', 'ls_model_name': 'llama3-70b-8192', 'ls_model_type': 'chat', 'ls_temperature': 0.7}, 'parent_ids': ['84533360-a902-44a3-8fd7-2e646ab2ee7e', 'aa7b5768-1ec4-4c91-a495-5779c5f2f926']}\n",
      "{'event': 'on_chat_model_stream', 'data': {'chunk': AIMessageChunk(content=' perform', additional_kwargs={}, response_metadata={}, id='run--fe50a465-4cbe-4ac9-9c34-6548908f36ed')}, 'run_id': 'fe50a465-4cbe-4ac9-9c34-6548908f36ed', 'name': 'ChatGroq', 'tags': ['seq:step:1'], 'metadata': {'langgraph_step': 1, 'langgraph_node': 'assistant', 'langgraph_triggers': ('branch:to:assistant',), 'langgraph_path': ('__pregel_pull', 'assistant'), 'langgraph_checkpoint_ns': 'assistant:4c4bbd3b-3b10-2956-7365-4f51661b3049', 'checkpoint_ns': 'assistant:4c4bbd3b-3b10-2956-7365-4f51661b3049', 'ls_provider': 'groq', 'ls_model_name': 'llama3-70b-8192', 'ls_model_type': 'chat', 'ls_temperature': 0.7}, 'parent_ids': ['84533360-a902-44a3-8fd7-2e646ab2ee7e', 'aa7b5768-1ec4-4c91-a495-5779c5f2f926']}\n",
      "{'event': 'on_chat_model_stream', 'data': {'chunk': AIMessageChunk(content='.', additional_kwargs={}, response_metadata={}, id='run--fe50a465-4cbe-4ac9-9c34-6548908f36ed')}, 'run_id': 'fe50a465-4cbe-4ac9-9c34-6548908f36ed', 'name': 'ChatGroq', 'tags': ['seq:step:1'], 'metadata': {'langgraph_step': 1, 'langgraph_node': 'assistant', 'langgraph_triggers': ('branch:to:assistant',), 'langgraph_path': ('__pregel_pull', 'assistant'), 'langgraph_checkpoint_ns': 'assistant:4c4bbd3b-3b10-2956-7365-4f51661b3049', 'checkpoint_ns': 'assistant:4c4bbd3b-3b10-2956-7365-4f51661b3049', 'ls_provider': 'groq', 'ls_model_name': 'llama3-70b-8192', 'ls_model_type': 'chat', 'ls_temperature': 0.7}, 'parent_ids': ['84533360-a902-44a3-8fd7-2e646ab2ee7e', 'aa7b5768-1ec4-4c91-a495-5779c5f2f926']}\n",
      "{'event': 'on_chat_model_stream', 'data': {'chunk': AIMessageChunk(content=' What', additional_kwargs={}, response_metadata={}, id='run--fe50a465-4cbe-4ac9-9c34-6548908f36ed')}, 'run_id': 'fe50a465-4cbe-4ac9-9c34-6548908f36ed', 'name': 'ChatGroq', 'tags': ['seq:step:1'], 'metadata': {'langgraph_step': 1, 'langgraph_node': 'assistant', 'langgraph_triggers': ('branch:to:assistant',), 'langgraph_path': ('__pregel_pull', 'assistant'), 'langgraph_checkpoint_ns': 'assistant:4c4bbd3b-3b10-2956-7365-4f51661b3049', 'checkpoint_ns': 'assistant:4c4bbd3b-3b10-2956-7365-4f51661b3049', 'ls_provider': 'groq', 'ls_model_name': 'llama3-70b-8192', 'ls_model_type': 'chat', 'ls_temperature': 0.7}, 'parent_ids': ['84533360-a902-44a3-8fd7-2e646ab2ee7e', 'aa7b5768-1ec4-4c91-a495-5779c5f2f926']}\n",
      "{'event': 'on_chat_model_stream', 'data': {'chunk': AIMessageChunk(content=' can', additional_kwargs={}, response_metadata={}, id='run--fe50a465-4cbe-4ac9-9c34-6548908f36ed')}, 'run_id': 'fe50a465-4cbe-4ac9-9c34-6548908f36ed', 'name': 'ChatGroq', 'tags': ['seq:step:1'], 'metadata': {'langgraph_step': 1, 'langgraph_node': 'assistant', 'langgraph_triggers': ('branch:to:assistant',), 'langgraph_path': ('__pregel_pull', 'assistant'), 'langgraph_checkpoint_ns': 'assistant:4c4bbd3b-3b10-2956-7365-4f51661b3049', 'checkpoint_ns': 'assistant:4c4bbd3b-3b10-2956-7365-4f51661b3049', 'ls_provider': 'groq', 'ls_model_name': 'llama3-70b-8192', 'ls_model_type': 'chat', 'ls_temperature': 0.7}, 'parent_ids': ['84533360-a902-44a3-8fd7-2e646ab2ee7e', 'aa7b5768-1ec4-4c91-a495-5779c5f2f926']}\n",
      "{'event': 'on_chat_model_stream', 'data': {'chunk': AIMessageChunk(content=' I', additional_kwargs={}, response_metadata={}, id='run--fe50a465-4cbe-4ac9-9c34-6548908f36ed')}, 'run_id': 'fe50a465-4cbe-4ac9-9c34-6548908f36ed', 'name': 'ChatGroq', 'tags': ['seq:step:1'], 'metadata': {'langgraph_step': 1, 'langgraph_node': 'assistant', 'langgraph_triggers': ('branch:to:assistant',), 'langgraph_path': ('__pregel_pull', 'assistant'), 'langgraph_checkpoint_ns': 'assistant:4c4bbd3b-3b10-2956-7365-4f51661b3049', 'checkpoint_ns': 'assistant:4c4bbd3b-3b10-2956-7365-4f51661b3049', 'ls_provider': 'groq', 'ls_model_name': 'llama3-70b-8192', 'ls_model_type': 'chat', 'ls_temperature': 0.7}, 'parent_ids': ['84533360-a902-44a3-8fd7-2e646ab2ee7e', 'aa7b5768-1ec4-4c91-a495-5779c5f2f926']}\n",
      "{'event': 'on_chat_model_stream', 'data': {'chunk': AIMessageChunk(content=' assist', additional_kwargs={}, response_metadata={}, id='run--fe50a465-4cbe-4ac9-9c34-6548908f36ed')}, 'run_id': 'fe50a465-4cbe-4ac9-9c34-6548908f36ed', 'name': 'ChatGroq', 'tags': ['seq:step:1'], 'metadata': {'langgraph_step': 1, 'langgraph_node': 'assistant', 'langgraph_triggers': ('branch:to:assistant',), 'langgraph_path': ('__pregel_pull', 'assistant'), 'langgraph_checkpoint_ns': 'assistant:4c4bbd3b-3b10-2956-7365-4f51661b3049', 'checkpoint_ns': 'assistant:4c4bbd3b-3b10-2956-7365-4f51661b3049', 'ls_provider': 'groq', 'ls_model_name': 'llama3-70b-8192', 'ls_model_type': 'chat', 'ls_temperature': 0.7}, 'parent_ids': ['84533360-a902-44a3-8fd7-2e646ab2ee7e', 'aa7b5768-1ec4-4c91-a495-5779c5f2f926']}\n",
      "{'event': 'on_chat_model_stream', 'data': {'chunk': AIMessageChunk(content=' you', additional_kwargs={}, response_metadata={}, id='run--fe50a465-4cbe-4ac9-9c34-6548908f36ed')}, 'run_id': 'fe50a465-4cbe-4ac9-9c34-6548908f36ed', 'name': 'ChatGroq', 'tags': ['seq:step:1'], 'metadata': {'langgraph_step': 1, 'langgraph_node': 'assistant', 'langgraph_triggers': ('branch:to:assistant',), 'langgraph_path': ('__pregel_pull', 'assistant'), 'langgraph_checkpoint_ns': 'assistant:4c4bbd3b-3b10-2956-7365-4f51661b3049', 'checkpoint_ns': 'assistant:4c4bbd3b-3b10-2956-7365-4f51661b3049', 'ls_provider': 'groq', 'ls_model_name': 'llama3-70b-8192', 'ls_model_type': 'chat', 'ls_temperature': 0.7}, 'parent_ids': ['84533360-a902-44a3-8fd7-2e646ab2ee7e', 'aa7b5768-1ec4-4c91-a495-5779c5f2f926']}\n",
      "{'event': 'on_chat_model_stream', 'data': {'chunk': AIMessageChunk(content=' with', additional_kwargs={}, response_metadata={}, id='run--fe50a465-4cbe-4ac9-9c34-6548908f36ed')}, 'run_id': 'fe50a465-4cbe-4ac9-9c34-6548908f36ed', 'name': 'ChatGroq', 'tags': ['seq:step:1'], 'metadata': {'langgraph_step': 1, 'langgraph_node': 'assistant', 'langgraph_triggers': ('branch:to:assistant',), 'langgraph_path': ('__pregel_pull', 'assistant'), 'langgraph_checkpoint_ns': 'assistant:4c4bbd3b-3b10-2956-7365-4f51661b3049', 'checkpoint_ns': 'assistant:4c4bbd3b-3b10-2956-7365-4f51661b3049', 'ls_provider': 'groq', 'ls_model_name': 'llama3-70b-8192', 'ls_model_type': 'chat', 'ls_temperature': 0.7}, 'parent_ids': ['84533360-a902-44a3-8fd7-2e646ab2ee7e', 'aa7b5768-1ec4-4c91-a495-5779c5f2f926']}\n",
      "{'event': 'on_chat_model_stream', 'data': {'chunk': AIMessageChunk(content=' today', additional_kwargs={}, response_metadata={}, id='run--fe50a465-4cbe-4ac9-9c34-6548908f36ed')}, 'run_id': 'fe50a465-4cbe-4ac9-9c34-6548908f36ed', 'name': 'ChatGroq', 'tags': ['seq:step:1'], 'metadata': {'langgraph_step': 1, 'langgraph_node': 'assistant', 'langgraph_triggers': ('branch:to:assistant',), 'langgraph_path': ('__pregel_pull', 'assistant'), 'langgraph_checkpoint_ns': 'assistant:4c4bbd3b-3b10-2956-7365-4f51661b3049', 'checkpoint_ns': 'assistant:4c4bbd3b-3b10-2956-7365-4f51661b3049', 'ls_provider': 'groq', 'ls_model_name': 'llama3-70b-8192', 'ls_model_type': 'chat', 'ls_temperature': 0.7}, 'parent_ids': ['84533360-a902-44a3-8fd7-2e646ab2ee7e', 'aa7b5768-1ec4-4c91-a495-5779c5f2f926']}\n",
      "{'event': 'on_chat_model_stream', 'data': {'chunk': AIMessageChunk(content='?', additional_kwargs={}, response_metadata={}, id='run--fe50a465-4cbe-4ac9-9c34-6548908f36ed')}, 'run_id': 'fe50a465-4cbe-4ac9-9c34-6548908f36ed', 'name': 'ChatGroq', 'tags': ['seq:step:1'], 'metadata': {'langgraph_step': 1, 'langgraph_node': 'assistant', 'langgraph_triggers': ('branch:to:assistant',), 'langgraph_path': ('__pregel_pull', 'assistant'), 'langgraph_checkpoint_ns': 'assistant:4c4bbd3b-3b10-2956-7365-4f51661b3049', 'checkpoint_ns': 'assistant:4c4bbd3b-3b10-2956-7365-4f51661b3049', 'ls_provider': 'groq', 'ls_model_name': 'llama3-70b-8192', 'ls_model_type': 'chat', 'ls_temperature': 0.7}, 'parent_ids': ['84533360-a902-44a3-8fd7-2e646ab2ee7e', 'aa7b5768-1ec4-4c91-a495-5779c5f2f926']}\n",
      "{'event': 'on_chat_model_stream', 'data': {'chunk': AIMessageChunk(content='', additional_kwargs={}, response_metadata={'finish_reason': 'stop', 'model_name': 'llama3-70b-8192', 'system_fingerprint': 'fp_dd4ae1c591', 'service_tier': 'on_demand'}, id='run--fe50a465-4cbe-4ac9-9c34-6548908f36ed', usage_metadata={'input_tokens': 1189, 'output_tokens': 32, 'total_tokens': 1221})}, 'run_id': 'fe50a465-4cbe-4ac9-9c34-6548908f36ed', 'name': 'ChatGroq', 'tags': ['seq:step:1'], 'metadata': {'langgraph_step': 1, 'langgraph_node': 'assistant', 'langgraph_triggers': ('branch:to:assistant',), 'langgraph_path': ('__pregel_pull', 'assistant'), 'langgraph_checkpoint_ns': 'assistant:4c4bbd3b-3b10-2956-7365-4f51661b3049', 'checkpoint_ns': 'assistant:4c4bbd3b-3b10-2956-7365-4f51661b3049', 'ls_provider': 'groq', 'ls_model_name': 'llama3-70b-8192', 'ls_model_type': 'chat', 'ls_temperature': 0.7}, 'parent_ids': ['84533360-a902-44a3-8fd7-2e646ab2ee7e', 'aa7b5768-1ec4-4c91-a495-5779c5f2f926']}\n",
      "{'event': 'on_chat_model_end', 'data': {'output': AIMessage(content=\"I'm doing well, thanks! I'm here to help you with any arithmetic operations you'd like to perform. What can I assist you with today?\", additional_kwargs={}, response_metadata={'finish_reason': 'stop', 'model_name': 'llama3-70b-8192', 'system_fingerprint': 'fp_dd4ae1c591', 'service_tier': 'on_demand'}, id='run--fe50a465-4cbe-4ac9-9c34-6548908f36ed', usage_metadata={'input_tokens': 1189, 'output_tokens': 32, 'total_tokens': 1221}), 'input': {'messages': [[SystemMessage(content=\" You're a helpful assistant tasked with performing arithmetic operations on a given set of inputs.\", additional_kwargs={}, response_metadata={}), HumanMessage(content=\"Hi How're you?\", additional_kwargs={}, response_metadata={}, id='d43237ca-3e80-420e-a219-1a0461028ad3')]]}}, 'run_id': 'fe50a465-4cbe-4ac9-9c34-6548908f36ed', 'name': 'ChatGroq', 'tags': ['seq:step:1'], 'metadata': {'langgraph_step': 1, 'langgraph_node': 'assistant', 'langgraph_triggers': ('branch:to:assistant',), 'langgraph_path': ('__pregel_pull', 'assistant'), 'langgraph_checkpoint_ns': 'assistant:4c4bbd3b-3b10-2956-7365-4f51661b3049', 'checkpoint_ns': 'assistant:4c4bbd3b-3b10-2956-7365-4f51661b3049', 'ls_provider': 'groq', 'ls_model_name': 'llama3-70b-8192', 'ls_model_type': 'chat', 'ls_temperature': 0.7}, 'parent_ids': ['84533360-a902-44a3-8fd7-2e646ab2ee7e', 'aa7b5768-1ec4-4c91-a495-5779c5f2f926']}\n",
      "{'event': 'on_chain_start', 'data': {'input': {'messages': [HumanMessage(content=\"Hi How're you?\", additional_kwargs={}, response_metadata={}, id='d43237ca-3e80-420e-a219-1a0461028ad3'), AIMessage(content=\"I'm doing well, thanks! I'm here to help you with any arithmetic operations you'd like to perform. What can I assist you with today?\", additional_kwargs={}, response_metadata={'finish_reason': 'stop', 'model_name': 'llama3-70b-8192', 'system_fingerprint': 'fp_dd4ae1c591', 'service_tier': 'on_demand'}, id='run--fe50a465-4cbe-4ac9-9c34-6548908f36ed', usage_metadata={'input_tokens': 1189, 'output_tokens': 32, 'total_tokens': 1221})]}}, 'name': 'tools_condition', 'tags': ['seq:step:3'], 'run_id': 'ae411554-b59f-4676-8e42-2685e7633336', 'metadata': {'langgraph_step': 1, 'langgraph_node': 'assistant', 'langgraph_triggers': ('branch:to:assistant',), 'langgraph_path': ('__pregel_pull', 'assistant'), 'langgraph_checkpoint_ns': 'assistant:4c4bbd3b-3b10-2956-7365-4f51661b3049'}, 'parent_ids': ['84533360-a902-44a3-8fd7-2e646ab2ee7e', 'aa7b5768-1ec4-4c91-a495-5779c5f2f926']}\n",
      "{'event': 'on_chain_end', 'data': {'output': '__end__', 'input': {'messages': [HumanMessage(content=\"Hi How're you?\", additional_kwargs={}, response_metadata={}, id='d43237ca-3e80-420e-a219-1a0461028ad3'), AIMessage(content=\"I'm doing well, thanks! I'm here to help you with any arithmetic operations you'd like to perform. What can I assist you with today?\", additional_kwargs={}, response_metadata={'finish_reason': 'stop', 'model_name': 'llama3-70b-8192', 'system_fingerprint': 'fp_dd4ae1c591', 'service_tier': 'on_demand'}, id='run--fe50a465-4cbe-4ac9-9c34-6548908f36ed', usage_metadata={'input_tokens': 1189, 'output_tokens': 32, 'total_tokens': 1221})]}}, 'run_id': 'ae411554-b59f-4676-8e42-2685e7633336', 'name': 'tools_condition', 'tags': ['seq:step:3'], 'metadata': {'langgraph_step': 1, 'langgraph_node': 'assistant', 'langgraph_triggers': ('branch:to:assistant',), 'langgraph_path': ('__pregel_pull', 'assistant'), 'langgraph_checkpoint_ns': 'assistant:4c4bbd3b-3b10-2956-7365-4f51661b3049'}, 'parent_ids': ['84533360-a902-44a3-8fd7-2e646ab2ee7e', 'aa7b5768-1ec4-4c91-a495-5779c5f2f926']}\n",
      "{'event': 'on_chain_stream', 'run_id': 'aa7b5768-1ec4-4c91-a495-5779c5f2f926', 'name': 'assistant', 'tags': ['graph:step:1'], 'metadata': {'langgraph_step': 1, 'langgraph_node': 'assistant', 'langgraph_triggers': ('branch:to:assistant',), 'langgraph_path': ('__pregel_pull', 'assistant'), 'langgraph_checkpoint_ns': 'assistant:4c4bbd3b-3b10-2956-7365-4f51661b3049'}, 'data': {'chunk': {'messages': [AIMessage(content=\"I'm doing well, thanks! I'm here to help you with any arithmetic operations you'd like to perform. What can I assist you with today?\", additional_kwargs={}, response_metadata={'finish_reason': 'stop', 'model_name': 'llama3-70b-8192', 'system_fingerprint': 'fp_dd4ae1c591', 'service_tier': 'on_demand'}, id='run--fe50a465-4cbe-4ac9-9c34-6548908f36ed', usage_metadata={'input_tokens': 1189, 'output_tokens': 32, 'total_tokens': 1221})]}}, 'parent_ids': ['84533360-a902-44a3-8fd7-2e646ab2ee7e']}\n",
      "{'event': 'on_chain_end', 'data': {'output': {'messages': [AIMessage(content=\"I'm doing well, thanks! I'm here to help you with any arithmetic operations you'd like to perform. What can I assist you with today?\", additional_kwargs={}, response_metadata={'finish_reason': 'stop', 'model_name': 'llama3-70b-8192', 'system_fingerprint': 'fp_dd4ae1c591', 'service_tier': 'on_demand'}, id='run--fe50a465-4cbe-4ac9-9c34-6548908f36ed', usage_metadata={'input_tokens': 1189, 'output_tokens': 32, 'total_tokens': 1221})]}, 'input': {'messages': [HumanMessage(content=\"Hi How're you?\", additional_kwargs={}, response_metadata={}, id='d43237ca-3e80-420e-a219-1a0461028ad3')]}}, 'run_id': 'aa7b5768-1ec4-4c91-a495-5779c5f2f926', 'name': 'assistant', 'tags': ['graph:step:1'], 'metadata': {'langgraph_step': 1, 'langgraph_node': 'assistant', 'langgraph_triggers': ('branch:to:assistant',), 'langgraph_path': ('__pregel_pull', 'assistant'), 'langgraph_checkpoint_ns': 'assistant:4c4bbd3b-3b10-2956-7365-4f51661b3049'}, 'parent_ids': ['84533360-a902-44a3-8fd7-2e646ab2ee7e']}\n",
      "{'event': 'on_chain_stream', 'run_id': '84533360-a902-44a3-8fd7-2e646ab2ee7e', 'name': 'LangGraph', 'tags': [], 'metadata': {}, 'data': {'chunk': {'assistant': {'messages': [AIMessage(content=\"I'm doing well, thanks! I'm here to help you with any arithmetic operations you'd like to perform. What can I assist you with today?\", additional_kwargs={}, response_metadata={'finish_reason': 'stop', 'model_name': 'llama3-70b-8192', 'system_fingerprint': 'fp_dd4ae1c591', 'service_tier': 'on_demand'}, id='run--fe50a465-4cbe-4ac9-9c34-6548908f36ed', usage_metadata={'input_tokens': 1189, 'output_tokens': 32, 'total_tokens': 1221})]}}}, 'parent_ids': []}\n",
      "{'event': 'on_chain_end', 'data': {'output': {'messages': [HumanMessage(content=\"Hi How're you?\", additional_kwargs={}, response_metadata={}, id='d43237ca-3e80-420e-a219-1a0461028ad3'), AIMessage(content=\"I'm doing well, thanks! I'm here to help you with any arithmetic operations you'd like to perform. What can I assist you with today?\", additional_kwargs={}, response_metadata={'finish_reason': 'stop', 'model_name': 'llama3-70b-8192', 'system_fingerprint': 'fp_dd4ae1c591', 'service_tier': 'on_demand'}, id='run--fe50a465-4cbe-4ac9-9c34-6548908f36ed', usage_metadata={'input_tokens': 1189, 'output_tokens': 32, 'total_tokens': 1221})]}}, 'run_id': '84533360-a902-44a3-8fd7-2e646ab2ee7e', 'name': 'LangGraph', 'tags': [], 'metadata': {}, 'parent_ids': []}\n"
     ]
    }
   ],
   "source": [
    "# version = \"v2\"\n",
    "input = {\"messages\": [\"Hi How're you?\"]}\n",
    "\n",
    "events = react_graph.astream_events(input=input, version='v2')\n",
    "async for event in events:\n",
    "    print(event)"
   ]
  },
  {
   "cell_type": "code",
   "execution_count": 52,
   "id": "c852e067",
   "metadata": {},
   "outputs": [
    {
     "name": "stdout",
     "output_type": "stream",
     "text": [
      "I'm doing well, thanks! How can I assist you today?"
     ]
    }
   ],
   "source": [
    "input = {\"messages\": [\"Hi How're you?\"]}\n",
    "\n",
    "events = react_graph.astream_events(input=input, version='v2')\n",
    "async for event in events:\n",
    "    if event[\"event\"] == \"on_chat_model_stream\":\n",
    "        print(event[\"data\"][\"chunk\"].content, end='', flush=True)"
   ]
  }
 ],
 "metadata": {
  "kernelspec": {
   "display_name": "menv",
   "language": "python",
   "name": "python3"
  },
  "language_info": {
   "codemirror_mode": {
    "name": "ipython",
    "version": 3
   },
   "file_extension": ".py",
   "mimetype": "text/x-python",
   "name": "python",
   "nbconvert_exporter": "python",
   "pygments_lexer": "ipython3",
   "version": "3.13.1"
  }
 },
 "nbformat": 4,
 "nbformat_minor": 5
}
